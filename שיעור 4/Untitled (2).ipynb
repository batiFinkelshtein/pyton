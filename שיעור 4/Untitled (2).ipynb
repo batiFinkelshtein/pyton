{
 "cells": [
  {
   "cell_type": "code",
   "execution_count": 3,
   "id": "e73ebccb-6707-42bb-8e00-00f78f51da06",
   "metadata": {},
   "outputs": [
    {
     "data": {
      "text/plain": [
       "array([44,  2, 15, 12, 11, 16, 23, 12, 19, 13])"
      ]
     },
     "execution_count": 3,
     "metadata": {},
     "output_type": "execute_result"
    }
   ],
   "source": [
    "import numpy as np\n",
    "array=np.random.randint(1,50,size=10)\n",
    "array"
   ]
  },
  {
   "cell_type": "code",
   "execution_count": 3,
   "id": "b09af137-bcca-42e4-b045-9ef27bbc8899",
   "metadata": {},
   "outputs": [
    {
     "name": "stdout",
     "output_type": "stream",
     "text": [
      "Requirement already satisfied: numpy in c:\\python310\\lib\\site-packages (1.26.4)\n",
      "Note: you may need to restart the kernel to use updated packages.\n"
     ]
    },
    {
     "name": "stderr",
     "output_type": "stream",
     "text": [
      "\n",
      "[notice] A new release of pip is available: 23.3.2 -> 24.0\n",
      "[notice] To update, run: python.exe -m pip install --upgrade pip\n"
     ]
    }
   ],
   "source": [
    "pip install numpy\n"
   ]
  },
  {
   "cell_type": "code",
   "execution_count": 20,
   "id": "194fbb7c-b6d1-46ac-9b3b-d11c29ae795d",
   "metadata": {},
   "outputs": [
    {
     "data": {
      "text/plain": [
       "(10,)"
      ]
     },
     "execution_count": 20,
     "metadata": {},
     "output_type": "execute_result"
    }
   ],
   "source": [
    "x=array.shape\n",
    "x"
   ]
  },
  {
   "cell_type": "code",
   "execution_count": 22,
   "id": "f16a4534-a3d4-45da-a42b-c8d20c9fc4d0",
   "metadata": {},
   "outputs": [
    {
     "data": {
      "text/plain": [
       "10"
      ]
     },
     "execution_count": 22,
     "metadata": {},
     "output_type": "execute_result"
    }
   ],
   "source": [
    "y=array.size\n",
    "y"
   ]
  },
  {
   "cell_type": "code",
   "execution_count": 23,
   "id": "57202f0a-360e-41d1-826e-91fcfab275c5",
   "metadata": {},
   "outputs": [
    {
     "data": {
      "text/plain": [
       "dtype('int32')"
      ]
     },
     "execution_count": 23,
     "metadata": {},
     "output_type": "execute_result"
    }
   ],
   "source": [
    "z=array.dtype\n",
    "z"
   ]
  },
  {
   "cell_type": "code",
   "execution_count": 24,
   "id": "1549200a-1bbb-4104-9c19-534a1513cf13",
   "metadata": {},
   "outputs": [
    {
     "data": {
      "text/plain": [
       "1"
      ]
     },
     "execution_count": 24,
     "metadata": {},
     "output_type": "execute_result"
    }
   ],
   "source": [
    "s=array.ndim\n",
    "s"
   ]
  },
  {
   "cell_type": "code",
   "execution_count": 25,
   "id": "0e379d2b-b3ef-4dc0-8251-8595ca56db71",
   "metadata": {},
   "outputs": [
    {
     "data": {
      "text/plain": [
       "array([[65, 31, 89, 24, 98],\n",
       "       [43, 79, 42, 11, 31]])"
      ]
     },
     "execution_count": 25,
     "metadata": {},
     "output_type": "execute_result"
    }
   ],
   "source": [
    "twoArray=np.random.randint(10,100,(2,5))\n",
    "twoArray"
   ]
  },
  {
   "cell_type": "code",
   "execution_count": 4,
   "id": "b0cb6129-5765-4e08-a92d-5fc242edb2ec",
   "metadata": {},
   "outputs": [
    {
     "name": "stdout",
     "output_type": "stream",
     "text": [
      "Collecting matplotlib\n",
      "  Downloading matplotlib-3.8.2-cp310-cp310-win_amd64.whl.metadata (5.9 kB)\n",
      "Collecting contourpy>=1.0.1 (from matplotlib)\n",
      "  Downloading contourpy-1.2.0-cp310-cp310-win_amd64.whl.metadata (5.8 kB)\n",
      "Collecting cycler>=0.10 (from matplotlib)\n",
      "  Downloading cycler-0.12.1-py3-none-any.whl.metadata (3.8 kB)\n",
      "Collecting fonttools>=4.22.0 (from matplotlib)\n",
      "  Downloading fonttools-4.48.1-cp310-cp310-win_amd64.whl.metadata (162 kB)\n",
      "     ---------------------------------------- 0.0/162.2 kB ? eta -:--:--\n",
      "     --------- --------------------------- 41.0/162.2 kB 960.0 kB/s eta 0:00:01\n",
      "     ----------------------------------- -- 153.6/162.2 kB 1.8 MB/s eta 0:00:01\n",
      "     -------------------------------------- 162.2/162.2 kB 1.6 MB/s eta 0:00:00\n",
      "Collecting kiwisolver>=1.3.1 (from matplotlib)\n",
      "  Downloading kiwisolver-1.4.5-cp310-cp310-win_amd64.whl.metadata (6.5 kB)\n",
      "Requirement already satisfied: numpy<2,>=1.21 in c:\\python310\\lib\\site-packages (from matplotlib) (1.26.4)\n",
      "Requirement already satisfied: packaging>=20.0 in c:\\python310\\lib\\site-packages (from matplotlib) (23.2)\n",
      "Collecting pillow>=8 (from matplotlib)\n",
      "  Downloading pillow-10.2.0-cp310-cp310-win_amd64.whl.metadata (9.9 kB)\n",
      "Collecting pyparsing>=2.3.1 (from matplotlib)\n",
      "  Downloading pyparsing-3.1.1-py3-none-any.whl.metadata (5.1 kB)\n",
      "Requirement already satisfied: python-dateutil>=2.7 in c:\\python310\\lib\\site-packages (from matplotlib) (2.8.2)\n",
      "Requirement already satisfied: six>=1.5 in c:\\python310\\lib\\site-packages (from python-dateutil>=2.7->matplotlib) (1.16.0)\n",
      "Downloading matplotlib-3.8.2-cp310-cp310-win_amd64.whl (7.6 MB)\n",
      "   ---------------------------------------- 0.0/7.6 MB ? eta -:--:--\n",
      "   ---------------------------------------- 0.0/7.6 MB 1.3 MB/s eta 0:00:06\n",
      "    --------------------------------------- 0.1/7.6 MB 1.3 MB/s eta 0:00:06\n",
      "    --------------------------------------- 0.2/7.6 MB 1.5 MB/s eta 0:00:05\n",
      "   - -------------------------------------- 0.4/7.6 MB 2.2 MB/s eta 0:00:04\n",
      "   -- ------------------------------------- 0.5/7.6 MB 2.5 MB/s eta 0:00:03\n",
      "   --- ------------------------------------ 0.7/7.6 MB 2.7 MB/s eta 0:00:03\n",
      "   ------ --------------------------------- 1.1/7.6 MB 3.6 MB/s eta 0:00:02\n",
      "   -------- ------------------------------- 1.6/7.6 MB 4.3 MB/s eta 0:00:02\n",
      "   --------- ------------------------------ 1.9/7.6 MB 4.7 MB/s eta 0:00:02\n",
      "   ----------- ---------------------------- 2.3/7.6 MB 5.0 MB/s eta 0:00:02\n",
      "   ------------- -------------------------- 2.6/7.6 MB 5.1 MB/s eta 0:00:01\n",
      "   --------------- ------------------------ 3.0/7.6 MB 5.2 MB/s eta 0:00:01\n",
      "   ----------------- ---------------------- 3.4/7.6 MB 5.5 MB/s eta 0:00:01\n",
      "   ------------------- -------------------- 3.8/7.6 MB 5.8 MB/s eta 0:00:01\n",
      "   -------------------- ------------------- 4.0/7.6 MB 5.7 MB/s eta 0:00:01\n",
      "   ---------------------- ----------------- 4.3/7.6 MB 5.7 MB/s eta 0:00:01\n",
      "   ------------------------ --------------- 4.6/7.6 MB 5.6 MB/s eta 0:00:01\n",
      "   -------------------------- ------------- 5.0/7.6 MB 5.8 MB/s eta 0:00:01\n",
      "   ---------------------------- ----------- 5.4/7.6 MB 6.0 MB/s eta 0:00:01\n",
      "   ------------------------------ --------- 5.8/7.6 MB 6.1 MB/s eta 0:00:01\n",
      "   ------------------------------ --------- 5.9/7.6 MB 6.0 MB/s eta 0:00:01\n",
      "   -------------------------------- ------- 6.2/7.6 MB 5.8 MB/s eta 0:00:01\n",
      "   --------------------------------- ------ 6.4/7.6 MB 5.9 MB/s eta 0:00:01\n",
      "   ---------------------------------- ----- 6.6/7.6 MB 5.8 MB/s eta 0:00:01\n",
      "   ----------------------------------- ---- 6.8/7.6 MB 5.7 MB/s eta 0:00:01\n",
      "   ------------------------------------ --- 6.9/7.6 MB 5.5 MB/s eta 0:00:01\n",
      "   ------------------------------------- -- 7.2/7.6 MB 5.5 MB/s eta 0:00:01\n",
      "   ------------------------------------- -- 7.2/7.6 MB 5.4 MB/s eta 0:00:01\n",
      "   -------------------------------------- - 7.3/7.6 MB 5.3 MB/s eta 0:00:01\n",
      "   ---------------------------------------  7.5/7.6 MB 5.3 MB/s eta 0:00:01\n",
      "   ---------------------------------------  7.6/7.6 MB 5.2 MB/s eta 0:00:01\n",
      "   ---------------------------------------- 7.6/7.6 MB 5.0 MB/s eta 0:00:00\n",
      "Downloading contourpy-1.2.0-cp310-cp310-win_amd64.whl (186 kB)\n",
      "   ---------------------------------------- 0.0/186.7 kB ? eta -:--:--\n",
      "   ------ -------------------------------- 30.7/186.7 kB 640.0 kB/s eta 0:00:01\n",
      "   -------------- ------------------------ 71.7/186.7 kB 777.7 kB/s eta 0:00:01\n",
      "   ---------------------------------------- 186.7/186.7 kB 1.1 MB/s eta 0:00:00\n",
      "Downloading cycler-0.12.1-py3-none-any.whl (8.3 kB)\n",
      "Downloading fonttools-4.48.1-cp310-cp310-win_amd64.whl (2.2 MB)\n",
      "   ---------------------------------------- 0.0/2.2 MB ? eta -:--:--\n",
      "    --------------------------------------- 0.0/2.2 MB 667.8 kB/s eta 0:00:04\n",
      "   -- ------------------------------------- 0.2/2.2 MB 1.5 MB/s eta 0:00:02\n",
      "   ------ --------------------------------- 0.4/2.2 MB 2.6 MB/s eta 0:00:01\n",
      "   --------- ------------------------------ 0.5/2.2 MB 3.0 MB/s eta 0:00:01\n",
      "   ---------- ----------------------------- 0.6/2.2 MB 2.5 MB/s eta 0:00:01\n",
      "   ---------- ----------------------------- 0.6/2.2 MB 2.5 MB/s eta 0:00:01\n",
      "   --------------- ------------------------ 0.8/2.2 MB 2.6 MB/s eta 0:00:01\n",
      "   ------------------- -------------------- 1.1/2.2 MB 3.0 MB/s eta 0:00:01\n",
      "   ----------------------- ---------------- 1.3/2.2 MB 3.1 MB/s eta 0:00:01\n",
      "   ------------------------- -------------- 1.4/2.2 MB 3.1 MB/s eta 0:00:01\n",
      "   ------------------------------ --------- 1.7/2.2 MB 3.3 MB/s eta 0:00:01\n",
      "   -------------------------------- ------- 1.8/2.2 MB 3.3 MB/s eta 0:00:01\n",
      "   ------------------------------------ --- 2.0/2.2 MB 3.4 MB/s eta 0:00:01\n",
      "   ------------------------------------ --- 2.0/2.2 MB 3.2 MB/s eta 0:00:01\n",
      "   ------------------------------------ --- 2.0/2.2 MB 3.1 MB/s eta 0:00:01\n",
      "   ------------------------------------- -- 2.0/2.2 MB 2.8 MB/s eta 0:00:01\n",
      "   ------------------------------------- -- 2.1/2.2 MB 2.7 MB/s eta 0:00:01\n",
      "   ---------------------------------------- 2.2/2.2 MB 2.7 MB/s eta 0:00:00\n",
      "Downloading kiwisolver-1.4.5-cp310-cp310-win_amd64.whl (56 kB)\n",
      "   ---------------------------------------- 0.0/56.1 kB ? eta -:--:--\n",
      "   --------------------- ------------------ 30.7/56.1 kB 1.3 MB/s eta 0:00:01\n",
      "   ---------------------------------------- 56.1/56.1 kB 587.9 kB/s eta 0:00:00\n",
      "Downloading pillow-10.2.0-cp310-cp310-win_amd64.whl (2.6 MB)\n",
      "   ---------------------------------------- 0.0/2.6 MB ? eta -:--:--\n",
      "    --------------------------------------- 0.0/2.6 MB 991.0 kB/s eta 0:00:03\n",
      "   - -------------------------------------- 0.1/2.6 MB 1.2 MB/s eta 0:00:03\n",
      "   --- ------------------------------------ 0.3/2.6 MB 1.8 MB/s eta 0:00:02\n",
      "   ------ --------------------------------- 0.4/2.6 MB 2.2 MB/s eta 0:00:02\n",
      "   --------- ------------------------------ 0.6/2.6 MB 2.5 MB/s eta 0:00:01\n",
      "   ----------- ---------------------------- 0.8/2.6 MB 2.8 MB/s eta 0:00:01\n",
      "   -------------- ------------------------- 1.0/2.6 MB 2.9 MB/s eta 0:00:01\n",
      "   ------------------ --------------------- 1.2/2.6 MB 3.2 MB/s eta 0:00:01\n",
      "   ----------------------- ---------------- 1.6/2.6 MB 3.7 MB/s eta 0:00:01\n",
      "   ----------------------------- ---------- 1.9/2.6 MB 4.1 MB/s eta 0:00:01\n",
      "   --------------------------------- ------ 2.2/2.6 MB 4.2 MB/s eta 0:00:01\n",
      "   ------------------------------------- -- 2.5/2.6 MB 4.4 MB/s eta 0:00:01\n",
      "   ---------------------------------------- 2.6/2.6 MB 4.4 MB/s eta 0:00:00\n",
      "Downloading pyparsing-3.1.1-py3-none-any.whl (103 kB)\n",
      "   ---------------------------------------- 0.0/103.1 kB ? eta -:--:--\n",
      "   ----------- ---------------------------- 30.7/103.1 kB 1.4 MB/s eta 0:00:01\n",
      "   ---------------------------------------  102.4/103.1 kB 1.2 MB/s eta 0:00:01\n",
      "   -------------------------------------- 103.1/103.1 kB 852.3 kB/s eta 0:00:00\n",
      "Installing collected packages: pyparsing, pillow, kiwisolver, fonttools, cycler, contourpy, matplotlib\n",
      "Note: you may need to restart the kernel to use updated packages.\n"
     ]
    },
    {
     "name": "stderr",
     "output_type": "stream",
     "text": [
      "ERROR: Could not install packages due to an OSError: [Errno 13] Permission denied: 'C:\\\\Python310\\\\share\\\\man\\\\man1\\\\ttx.1'\n",
      "Consider using the `--user` option or check the permissions.\n",
      "\n",
      "\n",
      "[notice] A new release of pip is available: 23.3.2 -> 24.0\n",
      "[notice] To update, run: python.exe -m pip install --upgrade pip\n"
     ]
    }
   ],
   "source": [
    "pip install matplotlib"
   ]
  },
  {
   "cell_type": "code",
   "execution_count": 23,
   "id": "e9a56a91-fa3c-4d74-9be4-d36e92914399",
   "metadata": {},
   "outputs": [],
   "source": [
    "import matplotlib.pyplot as plt"
   ]
  },
  {
   "cell_type": "code",
   "execution_count": null,
   "id": "f584ce33-d12b-43a4-b526-b9804a6ac6de",
   "metadata": {},
   "outputs": [],
   "source": [
    "arr=[1,2,3,4,5,6,7,8,9,10,11,12]\n",
    "arr2=[20,16,13,25,30,32,34,36,29,30,31,32]\n",
    "plt.plot(arr, arr2)"
   ]
  },
  {
   "cell_type": "code",
   "execution_count": null,
   "id": "ebcfd7a0-b2ca-4aeb-9e53-effdfd61b645",
   "metadata": {},
   "outputs": [],
   "source": [
    "מטרה: להציג את כמות המכירות לפי קטגוריה.\n",
    "נתונים: מכירות של 4 קטגוריות מוצרים בחנות."
   ]
  },
  {
   "cell_type": "code",
   "execution_count": 37,
   "id": "5d37763b-345d-49df-90a8-6daa49582e1b",
   "metadata": {},
   "outputs": [],
   "source": [
    "C = ['books', 'games', 'creations']\n",
    "values = [23, 45, 56]"
   ]
  },
  {
   "cell_type": "code",
   "execution_count": 39,
   "id": "72d55efb-e2a6-45f6-a8dc-ae4d524a3292",
   "metadata": {},
   "outputs": [
    {
     "data": {
      "text/plain": [
       "Text(0, 0.5, 'Values')"
      ]
     },
     "execution_count": 39,
     "metadata": {},
     "output_type": "execute_result"
    },
    {
     "data": {
      "image/png": "[encoded data removed]",
      "text/plain": [
       "<Figure size 640x480 with 1 Axes>"
      ]
     },
     "metadata": {},
     "output_type": "display_data"
    }
   ],
   "source": [
    "plt.bar(C, values)\n",
    "plt.title('sum of sale')\n",
    "plt.xlabel('Categories')\n",
    "plt.ylabel('Values')\n",
    "\n"
   ]
  },
  {
   "cell_type": "code",
   "execution_count": null,
   "id": "324a5c1a-fc1c-46ba-bca1-fedf52320de3",
   "metadata": {},
   "outputs": [],
   "source": [
    "תרגיל 3: גרף פיזור\n",
    "\n",
    "מטרה: לחקור את הקשר בין זמן לימוד לציונים במבחן.\n",
    "נתונים: שעות לימוד וציונים של תלמידים."
   ]
  },
  {
   "cell_type": "code",
   "execution_count": 46,
   "id": "584499c1-0054-44ad-8fa9-bbeba5d955f4",
   "metadata": {},
   "outputs": [
    {
     "data": {
      "text/plain": [
       "Text(0, 0.5, 'y axis')"
      ]
     },
     "execution_count": 46,
     "metadata": {},
     "output_type": "execute_result"
    },
    {
     "data": {
      "image/png": "[encoded data removed]",
      "text/plain": [
       "<Figure size 640x480 with 2 Axes>"
      ]
     },
     "metadata": {},
     "output_type": "display_data"
    }
   ],
   "source": [
    "hours=[8,7,6,5,9,10,11,12,15,20,21,22,23,24]\n",
    "marks=[90,89,70,60,50,40,92,95,52,54,56,58,42,44]\n",
    "colors = np.random.rand(14) # 50 צבעים אקראיים\n",
    "sizes = 1000 * np.random.rand(14) # 50 גדלים אקראיים לנקודות\n",
    "plt.scatter(hours,marks, c=colors, s=sizes, alpha=0.5, cmap='viridis')\n",
    "plt.colorbar()  # הצגת סרגל הצבעים\n",
    "plt.title('Scatter Plot Example')\n",
    "plt.xlabel('x axis')\n",
    "plt.ylabel('y axis')\n"
   ]
  },
  {
   "cell_type": "code",
   "execution_count": null,
   "id": "0cb8bf55-fe4a-4680-8e57-e8d43fce9052",
   "metadata": {},
   "outputs": [],
   "source": [
    "מטרה: לנתח את התפלגות גילאים בקבוצת נבדקים.\n",
    "נתונים: גילאים של אנשים בקבוצת מחקר."
   ]
  },
  {
   "cell_type": "code",
   "execution_count": 47,
   "id": "ac170410-9b58-41d8-a4bc-0ff63bc084f0",
   "metadata": {},
   "outputs": [
    {
     "data": {
      "text/plain": [
       "Text(0, 0.5, 'Number of People')"
      ]
     },
     "execution_count": 47,
     "metadata": {},
     "output_type": "execute_result"
    },
    {
     "data": {
      "image/png": "[encoded data removed]",
      "text/plain": [
       "<Figure size 640x480 with 1 Axes>"
      ]
     },
     "metadata": {},
     "output_type": "display_data"
    }
   ],
   "source": [
    "ages=[70,60,50,80,90,40,15,16,18,30,40]\n",
    "plt.hist(ages, bins=[20, 30, 40, 50, 60, 70], edgecolor='black')\n",
    "\n",
    "plt.title('Age Distribution')\n",
    "plt.xlabel('Ages')\n",
    "plt.ylabel('Number of People')"
   ]
  },
  {
   "cell_type": "code",
   "execution_count": null,
   "id": "69d77170-7e6f-4c81-9c9d-4ae6d7e8d163",
   "metadata": {},
   "outputs": [],
   "source": [
    "תרגיל 1: גרף קו\n",
    "\n",
    "    מטרה: ליצור גרף קו שמציג את השינוי בטמפרטורה לאורך זמן.\n",
    "    נתונים: טמפרטורות ממוצעות לכל חודש בשנה.\n",
    "\n",
    "תרגיל 2: גרף עמודות\n",
    "\n",
    "    מטרה: להציג את כמות המכירות לפי קטגוריה.\n",
    "    נתונים: מכירות של 4 קטגוריות מוצרים בחנות.\n",
    "\n",
    "תרגיל 3: גרף פיזור\n",
    "\n",
    "    מטרה: לחקור את הקשר בין זמן לימוד לציונים במבחן.\n",
    "    נתונים: שעות לימוד וציונים של תלמידים.\n",
    "\n",
    "תרגיל 4: היסטוגרמה\n",
    "\n",
    "    מטרה: לנתח את התפלגות גילאים בקבוצת נבדקים.\n",
    "    נתונים: גילאים של אנשים בקבוצת מחקר.\n",
    "\n",
    "תרגיל 5: גרפים מרובים בחלון אחד (Subplots)\n",
    "\n",
    "    מטרה: להשוות בין צריכת אנרגיה לפי שנים ומקורות.\n",
    "    נתונים: צריכת אנרגיה לפי שנים ומקורות אנרגיה שונים."
   ]
  },
  {
   "cell_type": "code",
   "execution_count": null,
   "id": "54a2d217-95ee-4370-a625-8a5c474fea22",
   "metadata": {},
   "outputs": [],
   "source": [
    "\n",
    "years = range(2010, 2021)\n",
    " consumption_oil = [100, 105, 110, 120, 125, 130, 135, 140, 145, 150, 155]\n",
    " consumption_gas = [80, 82, 85, 88, 90, 95, 100, 105, 110, 115, 120]\n",
    " consumption_renewable = [20, 25, 30, 35, 40, 45, 50, 60, 70, 80, 90]\n",
    "fig, axs = plt.subplots(2, 2)  # יוצר מטריצה של גרפים בגודל 2x2\n",
    "axs[0, 0].plot( years, consumption_oil, 'tab:blue')\n",
    "axs[0, 0].set_title('Sin(consumption_oil)')\n",
    "axs[0, 1].plot(years, consumption_gas, 'tab:red')\n",
    "axs[0, 1].set_title('Cos(x)')\n",
    "axs[1, 0].scatter(years, consumption_renewable, c='yellow')\n",
    "axs[1, 0].set_title('Sin(x) Scatter')\n",
    "axs[1, 1].scatteryears, consumption_renewable, c='green')\n",
    "axs[1, 1].set_title('Cos(x) Scatter')\n",
    "\n",
    "# התאמת הגרפים למראה נקי יותר\n",
    "for ax in axs.flat:\n",
    "    ax.label_outer()"
   ]
  },
  {
   "cell_type": "code",
   "execution_count": null,
   "id": "9a7dfdb5-4f3f-406b-9135-ad107a3d9947",
   "metadata": {},
   "outputs": [],
   "source": []
  },
  {
   "cell_type": "code",
   "execution_count": null,
   "id": "df076310-31be-45e1-bb14-e4191dde869e",
   "metadata": {},
   "outputs": [],
   "source": []
  }
 ],
 "metadata": {
  "kernelspec": {
   "display_name": "Python 3 (ipykernel)",
   "language": "python",
   "name": "python3"
  },
  "language_info": {
   "codemirror_mode": {
    "name": "ipython",
    "version": 3
   },
   "file_extension": ".py",
   "mimetype": "text/x-python",
   "name": "python",
   "nbconvert_exporter": "python",
   "pygments_lexer": "ipython3",
   "version": "3.10.8"
  }
 },
 "nbformat": 4,
 "nbformat_minor": 5
}
